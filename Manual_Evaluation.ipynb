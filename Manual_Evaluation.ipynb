{
  "cells": [
    {
      "cell_type": "markdown",
      "source": [
        "This code provides a structured process for reading a CSV file, manually reviewing rows to determine if a response was written by a human or a model, and calculating accuracy based on user input:\n",
        "\n",
        "1. **`read_csv(file_path)`**: Reads a CSV file and prompts the user to select a range of rows to work with. The function returns the selected rows, along with the starting and ending row indices.\n",
        "\n",
        "2. **`save_results(results, first_row, last_row, file_path)`**: Saves the results of user evaluations to a new CSV file, named based on the original file and the selected row range.\n",
        "\n",
        "3. **`ask_user_and_record(data)`**: Iterates through the selected rows, presenting the user with content and asking them to classify it as written by a human or a model. The user can exit early by pressing 'E'.\n",
        "\n",
        "4. **`calculate_accuracy(user_answers, correct_answers)`**: Computes the accuracy of the user's classifications by comparing them to the correct labels.\n",
        "\n"
      ],
      "metadata": {
        "id": "RJCjeXFiBkh9"
      }
    },
    {
      "cell_type": "code",
      "source": [
        "import pandas as pd\n",
        "import re\n",
        "from google.colab import files"
      ],
      "metadata": {
        "id": "gbyc_olXBzdn"
      },
      "execution_count": null,
      "outputs": []
    },
    {
      "cell_type": "code",
      "source": [
        "def read_csv(file_path):\n",
        "    try:\n",
        "        df = pd.read_csv(file_path)\n",
        "        num_rows = len(df)\n",
        "\n",
        "        if num_rows == 0:\n",
        "            print(\"The file is empty.\")\n",
        "            return None, None, None\n",
        "\n",
        "        while True:\n",
        "            try:\n",
        "                first_row = int(input(f\"Enter the first row (0 to {num_rows - 1}): \"))\n",
        "                if 0 <= first_row < num_rows:\n",
        "                    break\n",
        "                else:\n",
        "                    print(f\"Please enter a valid row number between 0 and {num_rows - 1}.\")\n",
        "            except ValueError:\n",
        "                print(\"Invalid input. Please enter an integer.\")\n",
        "\n",
        "        while True:\n",
        "            try:\n",
        "                last_row = int(input(f\"Enter the last row ({first_row} to {num_rows - 1}): \"))\n",
        "                if first_row <= last_row < num_rows:\n",
        "                    break\n",
        "                else:\n",
        "                    print(f\"Please enter a valid row number between {first_row} and {num_rows - 1}.\")\n",
        "            except ValueError:\n",
        "                print(\"Invalid input. Please enter an integer.\")\n",
        "\n",
        "        return df.iloc[first_row:last_row + 1], first_row, last_row\n",
        "\n",
        "    except Exception as e:\n",
        "        print(f\"Error reading file {file_path}: {e}\")\n",
        "        return None, None, None\n"
      ],
      "metadata": {
        "id": "J9rdGvsmB03Z"
      },
      "execution_count": null,
      "outputs": []
    },
    {
      "cell_type": "code",
      "source": [
        "def save_results(results, first_row, last_row, file_path):\n",
        "    try:\n",
        "        filename = f\"{file_path.rsplit('.', 1)[0]}_{first_row}_{last_row}.csv\"\n",
        "        results.to_csv(filename, index=False)\n",
        "        print(f\"Results saved to {filename}\")\n",
        "    except Exception as e:\n",
        "        print(f\"Error saving file {file_path}: {e}\")"
      ],
      "metadata": {
        "id": "psaKoOkyB3ma"
      },
      "execution_count": null,
      "outputs": []
    },
    {
      "cell_type": "code",
      "execution_count": null,
      "metadata": {
        "id": "R5Dfrhr4QAHt"
      },
      "outputs": [],
      "source": [
        "def ask_user_and_record(data):\n",
        "    user_answers = []\n",
        "    correct_answers = []\n",
        "    total_questions = len(data)\n",
        "    question_count = 0\n",
        "    last_processed_row = None\n",
        "\n",
        "    for idx, row in data.iterrows():\n",
        "        question_count += 1\n",
        "        cleaned_reply_text = re.sub(r'\\s+', ' ', row['reply_text']).strip()\n",
        "        print(f\"----------------------------------------{question_count}/{total_questions}-----------------------------------------------\\n\")\n",
        "        print(\n",
        "            f\"Subreddit: {row['subreddit_name']}\\nConversation name: {row['conversation_title']}\\n\\nComment:{row['top_level_text']}\\n\\nReply: {cleaned_reply_text}\")\n",
        "        user_input = None\n",
        "        while user_input not in ['0', '1', 'E']:\n",
        "            user_input = input(\"\\nWas this written by a human (0) or a model (1)? (Press 'E' to exit early): \").strip()\n",
        "            if user_input not in ['0', '1', 'E']:\n",
        "                print(\"Invalid input. Please enter 0 for Human, 1 for Model, or 'E' to exit.\")\n",
        "\n",
        "        if user_input == 'E':\n",
        "            print(\"Exiting early.\")\n",
        "            break\n",
        "\n",
        "        user_answers.append(int(user_input))\n",
        "        correct_answers.append(row['labels'])\n",
        "        last_processed_row = idx  # Record the last processed row index\n",
        "\n",
        "    return user_answers, correct_answers, last_processed_row\n"
      ]
    },
    {
      "cell_type": "code",
      "source": [
        "def calculate_accuracy(user_answers, correct_answers):\n",
        "    correct_count = sum([1 for user_ans, correct_ans in zip(user_answers, correct_answers) if user_ans == correct_ans])\n",
        "    return correct_count / len(correct_answers)"
      ],
      "metadata": {
        "id": "afWrJlNBB6Hb"
      },
      "execution_count": null,
      "outputs": []
    },
    {
      "cell_type": "code",
      "execution_count": null,
      "metadata": {
        "id": "3qTnSDNjQKtE"
      },
      "outputs": [],
      "source": [
        "# Upload the test_datasets from Data/DataSets/Small Dataset/CSV/test_dataset.csv\n",
        "uploaded = files.upload()\n"
      ]
    },
    {
      "cell_type": "markdown",
      "source": [
        "This code orchestrates the process of evaluating a dataset by prompting the user to manually classify whether each response was written by a human or a model. Here's a breakdown:\n",
        "\n",
        "1. **File Handling**: The code specifies input (`test_by_post_shuffeled.csv`) and output (`results.csv`) CSV files. It reads the input data and allows the user to select a subset of rows for evaluation.\n",
        "\n",
        "2. **User Interaction**: The `ask_user_and_record` function is used to present each selected row to the user, asking them to classify it. The user's answers are recorded along with the correct labels.\n",
        "\n",
        "3. **Accuracy Calculation**: After the user finishes classifying (or exits early), the code calculates the accuracy of the user's classifications.\n",
        "\n",
        "4. **Saving Results**: The evaluated subset, including the original data, user predictions, and correct labels, is saved to a new CSV file named `results.csv`.\n",
        "\n"
      ],
      "metadata": {
        "id": "yQP1DGQYBwEN"
      }
    },
    {
      "cell_type": "code",
      "execution_count": null,
      "metadata": {
        "id": "nKvxIaywQEGA"
      },
      "outputs": [],
      "source": [
        "input_csv = \"test_by_post_shuffeled.csv\"\n",
        "output_csv = \"results.csv\"\n",
        "data, first_row, last_row = read_csv(input_csv)\n",
        "\n",
        "if data is not None:\n",
        "    user_answers, correct_answers, last_processed_row = ask_user_and_record(data)\n",
        "\n",
        "    if last_processed_row is not None:\n",
        "        accuracy = calculate_accuracy(user_answers, correct_answers)\n",
        "        print(f\"Your accuracy: {accuracy * 100:.2f}%\")\n",
        "\n",
        "        results = data.iloc[:len(user_answers)].copy()  # Only include rows that were processed\n",
        "        results['prediction'] = user_answers\n",
        "        results['label'] = correct_answers\n",
        "\n",
        "        results = results[['subreddit_name', 'conversation_title', 'top_level_text', 'reply_text', 'labels', 'prediction']]\n",
        "        save_results(results, first_row, last_processed_row, output_csv)\n",
        "    else:\n",
        "        print(\"No questions were answered.\")"
      ]
    }
  ],
  "metadata": {
    "colab": {
      "provenance": []
    },
    "kernelspec": {
      "display_name": "Python 3",
      "name": "python3"
    },
    "language_info": {
      "name": "python"
    }
  },
  "nbformat": 4,
  "nbformat_minor": 0
}